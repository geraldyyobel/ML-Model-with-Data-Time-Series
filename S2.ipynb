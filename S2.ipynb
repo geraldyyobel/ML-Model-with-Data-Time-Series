{
  "nbformat": 4,
  "nbformat_minor": 0,
  "metadata": {
    "colab": {
      "provenance": [],
      "gpuType": "T4"
    },
    "kernelspec": {
      "name": "python3",
      "display_name": "Python 3"
    },
    "language_info": {
      "name": "python"
    },
    "accelerator": "GPU"
  },
  "cells": [
    {
      "cell_type": "code",
      "source": [
        "\n",
        "#read dataset\n",
        "import pandas as pd\n",
        "df = pd.read_csv('/content/COMED_hourly.csv')\n",
        "df.head()"
      ],
      "metadata": {
        "colab": {
          "base_uri": "https://localhost:8080/",
          "height": 206
        },
        "id": "uAbLnN-s6XuK",
        "outputId": "1290cbc4-3cfb-4cd2-e311-dc3450633b56"
      },
      "execution_count": 908,
      "outputs": [
        {
          "output_type": "execute_result",
          "data": {
            "text/plain": [
              "              Datetime  COMED_MW\n",
              "0  2011-12-31 01:00:00    9970.0\n",
              "1  2011-12-31 02:00:00    9428.0\n",
              "2  2011-12-31 03:00:00    9059.0\n",
              "3  2011-12-31 04:00:00    8817.0\n",
              "4  2011-12-31 05:00:00    8743.0"
            ],
            "text/html": [
              "\n",
              "  <div id=\"df-6471c2a6-1869-4b59-a870-dd5766a246e3\" class=\"colab-df-container\">\n",
              "    <div>\n",
              "<style scoped>\n",
              "    .dataframe tbody tr th:only-of-type {\n",
              "        vertical-align: middle;\n",
              "    }\n",
              "\n",
              "    .dataframe tbody tr th {\n",
              "        vertical-align: top;\n",
              "    }\n",
              "\n",
              "    .dataframe thead th {\n",
              "        text-align: right;\n",
              "    }\n",
              "</style>\n",
              "<table border=\"1\" class=\"dataframe\">\n",
              "  <thead>\n",
              "    <tr style=\"text-align: right;\">\n",
              "      <th></th>\n",
              "      <th>Datetime</th>\n",
              "      <th>COMED_MW</th>\n",
              "    </tr>\n",
              "  </thead>\n",
              "  <tbody>\n",
              "    <tr>\n",
              "      <th>0</th>\n",
              "      <td>2011-12-31 01:00:00</td>\n",
              "      <td>9970.0</td>\n",
              "    </tr>\n",
              "    <tr>\n",
              "      <th>1</th>\n",
              "      <td>2011-12-31 02:00:00</td>\n",
              "      <td>9428.0</td>\n",
              "    </tr>\n",
              "    <tr>\n",
              "      <th>2</th>\n",
              "      <td>2011-12-31 03:00:00</td>\n",
              "      <td>9059.0</td>\n",
              "    </tr>\n",
              "    <tr>\n",
              "      <th>3</th>\n",
              "      <td>2011-12-31 04:00:00</td>\n",
              "      <td>8817.0</td>\n",
              "    </tr>\n",
              "    <tr>\n",
              "      <th>4</th>\n",
              "      <td>2011-12-31 05:00:00</td>\n",
              "      <td>8743.0</td>\n",
              "    </tr>\n",
              "  </tbody>\n",
              "</table>\n",
              "</div>\n",
              "    <div class=\"colab-df-buttons\">\n",
              "\n",
              "  <div class=\"colab-df-container\">\n",
              "    <button class=\"colab-df-convert\" onclick=\"convertToInteractive('df-6471c2a6-1869-4b59-a870-dd5766a246e3')\"\n",
              "            title=\"Convert this dataframe to an interactive table.\"\n",
              "            style=\"display:none;\">\n",
              "\n",
              "  <svg xmlns=\"http://www.w3.org/2000/svg\" height=\"24px\" viewBox=\"0 -960 960 960\">\n",
              "    <path d=\"M120-120v-720h720v720H120Zm60-500h600v-160H180v160Zm220 220h160v-160H400v160Zm0 220h160v-160H400v160ZM180-400h160v-160H180v160Zm440 0h160v-160H620v160ZM180-180h160v-160H180v160Zm440 0h160v-160H620v160Z\"/>\n",
              "  </svg>\n",
              "    </button>\n",
              "\n",
              "  <style>\n",
              "    .colab-df-container {\n",
              "      display:flex;\n",
              "      gap: 12px;\n",
              "    }\n",
              "\n",
              "    .colab-df-convert {\n",
              "      background-color: #E8F0FE;\n",
              "      border: none;\n",
              "      border-radius: 50%;\n",
              "      cursor: pointer;\n",
              "      display: none;\n",
              "      fill: #1967D2;\n",
              "      height: 32px;\n",
              "      padding: 0 0 0 0;\n",
              "      width: 32px;\n",
              "    }\n",
              "\n",
              "    .colab-df-convert:hover {\n",
              "      background-color: #E2EBFA;\n",
              "      box-shadow: 0px 1px 2px rgba(60, 64, 67, 0.3), 0px 1px 3px 1px rgba(60, 64, 67, 0.15);\n",
              "      fill: #174EA6;\n",
              "    }\n",
              "\n",
              "    .colab-df-buttons div {\n",
              "      margin-bottom: 4px;\n",
              "    }\n",
              "\n",
              "    [theme=dark] .colab-df-convert {\n",
              "      background-color: #3B4455;\n",
              "      fill: #D2E3FC;\n",
              "    }\n",
              "\n",
              "    [theme=dark] .colab-df-convert:hover {\n",
              "      background-color: #434B5C;\n",
              "      box-shadow: 0px 1px 3px 1px rgba(0, 0, 0, 0.15);\n",
              "      filter: drop-shadow(0px 1px 2px rgba(0, 0, 0, 0.3));\n",
              "      fill: #FFFFFF;\n",
              "    }\n",
              "  </style>\n",
              "\n",
              "    <script>\n",
              "      const buttonEl =\n",
              "        document.querySelector('#df-6471c2a6-1869-4b59-a870-dd5766a246e3 button.colab-df-convert');\n",
              "      buttonEl.style.display =\n",
              "        google.colab.kernel.accessAllowed ? 'block' : 'none';\n",
              "\n",
              "      async function convertToInteractive(key) {\n",
              "        const element = document.querySelector('#df-6471c2a6-1869-4b59-a870-dd5766a246e3');\n",
              "        const dataTable =\n",
              "          await google.colab.kernel.invokeFunction('convertToInteractive',\n",
              "                                                    [key], {});\n",
              "        if (!dataTable) return;\n",
              "\n",
              "        const docLinkHtml = 'Like what you see? Visit the ' +\n",
              "          '<a target=\"_blank\" href=https://colab.research.google.com/notebooks/data_table.ipynb>data table notebook</a>'\n",
              "          + ' to learn more about interactive tables.';\n",
              "        element.innerHTML = '';\n",
              "        dataTable['output_type'] = 'display_data';\n",
              "        await google.colab.output.renderOutput(dataTable, element);\n",
              "        const docLink = document.createElement('div');\n",
              "        docLink.innerHTML = docLinkHtml;\n",
              "        element.appendChild(docLink);\n",
              "      }\n",
              "    </script>\n",
              "  </div>\n",
              "\n",
              "\n",
              "<div id=\"df-dc96c703-a691-4e01-862a-db127ba17cc9\">\n",
              "  <button class=\"colab-df-quickchart\" onclick=\"quickchart('df-dc96c703-a691-4e01-862a-db127ba17cc9')\"\n",
              "            title=\"Suggest charts\"\n",
              "            style=\"display:none;\">\n",
              "\n",
              "<svg xmlns=\"http://www.w3.org/2000/svg\" height=\"24px\"viewBox=\"0 0 24 24\"\n",
              "     width=\"24px\">\n",
              "    <g>\n",
              "        <path d=\"M19 3H5c-1.1 0-2 .9-2 2v14c0 1.1.9 2 2 2h14c1.1 0 2-.9 2-2V5c0-1.1-.9-2-2-2zM9 17H7v-7h2v7zm4 0h-2V7h2v10zm4 0h-2v-4h2v4z\"/>\n",
              "    </g>\n",
              "</svg>\n",
              "  </button>\n",
              "\n",
              "<style>\n",
              "  .colab-df-quickchart {\n",
              "      --bg-color: #E8F0FE;\n",
              "      --fill-color: #1967D2;\n",
              "      --hover-bg-color: #E2EBFA;\n",
              "      --hover-fill-color: #174EA6;\n",
              "      --disabled-fill-color: #AAA;\n",
              "      --disabled-bg-color: #DDD;\n",
              "  }\n",
              "\n",
              "  [theme=dark] .colab-df-quickchart {\n",
              "      --bg-color: #3B4455;\n",
              "      --fill-color: #D2E3FC;\n",
              "      --hover-bg-color: #434B5C;\n",
              "      --hover-fill-color: #FFFFFF;\n",
              "      --disabled-bg-color: #3B4455;\n",
              "      --disabled-fill-color: #666;\n",
              "  }\n",
              "\n",
              "  .colab-df-quickchart {\n",
              "    background-color: var(--bg-color);\n",
              "    border: none;\n",
              "    border-radius: 50%;\n",
              "    cursor: pointer;\n",
              "    display: none;\n",
              "    fill: var(--fill-color);\n",
              "    height: 32px;\n",
              "    padding: 0;\n",
              "    width: 32px;\n",
              "  }\n",
              "\n",
              "  .colab-df-quickchart:hover {\n",
              "    background-color: var(--hover-bg-color);\n",
              "    box-shadow: 0 1px 2px rgba(60, 64, 67, 0.3), 0 1px 3px 1px rgba(60, 64, 67, 0.15);\n",
              "    fill: var(--button-hover-fill-color);\n",
              "  }\n",
              "\n",
              "  .colab-df-quickchart-complete:disabled,\n",
              "  .colab-df-quickchart-complete:disabled:hover {\n",
              "    background-color: var(--disabled-bg-color);\n",
              "    fill: var(--disabled-fill-color);\n",
              "    box-shadow: none;\n",
              "  }\n",
              "\n",
              "  .colab-df-spinner {\n",
              "    border: 2px solid var(--fill-color);\n",
              "    border-color: transparent;\n",
              "    border-bottom-color: var(--fill-color);\n",
              "    animation:\n",
              "      spin 1s steps(1) infinite;\n",
              "  }\n",
              "\n",
              "  @keyframes spin {\n",
              "    0% {\n",
              "      border-color: transparent;\n",
              "      border-bottom-color: var(--fill-color);\n",
              "      border-left-color: var(--fill-color);\n",
              "    }\n",
              "    20% {\n",
              "      border-color: transparent;\n",
              "      border-left-color: var(--fill-color);\n",
              "      border-top-color: var(--fill-color);\n",
              "    }\n",
              "    30% {\n",
              "      border-color: transparent;\n",
              "      border-left-color: var(--fill-color);\n",
              "      border-top-color: var(--fill-color);\n",
              "      border-right-color: var(--fill-color);\n",
              "    }\n",
              "    40% {\n",
              "      border-color: transparent;\n",
              "      border-right-color: var(--fill-color);\n",
              "      border-top-color: var(--fill-color);\n",
              "    }\n",
              "    60% {\n",
              "      border-color: transparent;\n",
              "      border-right-color: var(--fill-color);\n",
              "    }\n",
              "    80% {\n",
              "      border-color: transparent;\n",
              "      border-right-color: var(--fill-color);\n",
              "      border-bottom-color: var(--fill-color);\n",
              "    }\n",
              "    90% {\n",
              "      border-color: transparent;\n",
              "      border-bottom-color: var(--fill-color);\n",
              "    }\n",
              "  }\n",
              "</style>\n",
              "\n",
              "  <script>\n",
              "    async function quickchart(key) {\n",
              "      const quickchartButtonEl =\n",
              "        document.querySelector('#' + key + ' button');\n",
              "      quickchartButtonEl.disabled = true;  // To prevent multiple clicks.\n",
              "      quickchartButtonEl.classList.add('colab-df-spinner');\n",
              "      try {\n",
              "        const charts = await google.colab.kernel.invokeFunction(\n",
              "            'suggestCharts', [key], {});\n",
              "      } catch (error) {\n",
              "        console.error('Error during call to suggestCharts:', error);\n",
              "      }\n",
              "      quickchartButtonEl.classList.remove('colab-df-spinner');\n",
              "      quickchartButtonEl.classList.add('colab-df-quickchart-complete');\n",
              "    }\n",
              "    (() => {\n",
              "      let quickchartButtonEl =\n",
              "        document.querySelector('#df-dc96c703-a691-4e01-862a-db127ba17cc9 button');\n",
              "      quickchartButtonEl.style.display =\n",
              "        google.colab.kernel.accessAllowed ? 'block' : 'none';\n",
              "    })();\n",
              "  </script>\n",
              "</div>\n",
              "    </div>\n",
              "  </div>\n"
            ]
          },
          "metadata": {},
          "execution_count": 908
        }
      ]
    },
    {
      "cell_type": "code",
      "source": [
        "import random\n",
        "df\n",
        "\n",
        "print(\"after dropping \\n\")\n",
        "# Jumlah baris yang akan dihapus secara acak\n",
        "jumlah_baris_dihapus = 56000\n",
        "\n",
        "# Mendapatkan indeks baris secara acak yang akan dihapus\n",
        "indeks_baris_dihapus = random.sample(range(len(df)), jumlah_baris_dihapus)\n",
        "\n",
        "# Menghapus baris dengan indeks yang dipilih secara acak\n",
        "df = df.drop(indeks_baris_dihapus)\n",
        "\n",
        "# Menampilkan DataFrame setelah menghapus baris\n",
        "print(df)"
      ],
      "metadata": {
        "colab": {
          "base_uri": "https://localhost:8080/"
        },
        "id": "a9SUM2Ji2mvv",
        "outputId": "584c562d-cc27-4453-a23d-926e5a668f25"
      },
      "execution_count": 909,
      "outputs": [
        {
          "output_type": "stream",
          "name": "stdout",
          "text": [
            "after dropping \n",
            "\n",
            "                  Datetime  COMED_MW\n",
            "1      2011-12-31 02:00:00    9428.0\n",
            "7      2011-12-31 08:00:00    9363.0\n",
            "39     2011-12-30 16:00:00   11317.0\n",
            "41     2011-12-30 18:00:00   11996.0\n",
            "49     2011-12-29 02:00:00   10083.0\n",
            "...                    ...       ...\n",
            "66453  2018-01-02 05:00:00   11728.0\n",
            "66469  2018-01-02 21:00:00   15246.0\n",
            "66474  2018-01-01 02:00:00   11982.0\n",
            "66475  2018-01-01 03:00:00   11747.0\n",
            "66477  2018-01-01 05:00:00   11565.0\n",
            "\n",
            "[10497 rows x 2 columns]\n"
          ]
        }
      ]
    },
    {
      "cell_type": "code",
      "source": [
        "df.info()"
      ],
      "metadata": {
        "colab": {
          "base_uri": "https://localhost:8080/"
        },
        "id": "wQIOaNJd7AD8",
        "outputId": "ce556e5a-6109-4be6-d78d-be41719a54aa"
      },
      "execution_count": 910,
      "outputs": [
        {
          "output_type": "stream",
          "name": "stdout",
          "text": [
            "<class 'pandas.core.frame.DataFrame'>\n",
            "Int64Index: 10497 entries, 1 to 66477\n",
            "Data columns (total 2 columns):\n",
            " #   Column    Non-Null Count  Dtype  \n",
            "---  ------    --------------  -----  \n",
            " 0   Datetime  10497 non-null  object \n",
            " 1   COMED_MW  10497 non-null  float64\n",
            "dtypes: float64(1), object(1)\n",
            "memory usage: 246.0+ KB\n"
          ]
        }
      ]
    },
    {
      "cell_type": "code",
      "source": [
        "import numpy as np\n",
        "import pandas as pd\n",
        "from keras.layers import Dense, LSTM\n",
        "import matplotlib.pyplot as plt\n",
        "import tensorflow as tf\n",
        "from sklearn.model_selection import train_test_split\n",
        "from sklearn.preprocessing import MinMaxScaler\n"
      ],
      "metadata": {
        "id": "28GnLsY_7i2F"
      },
      "execution_count": 911,
      "outputs": []
    },
    {
      "cell_type": "code",
      "source": [
        "dates = df['Datetime'].values\n",
        "DM = df['COMED_MW'].values\n",
        "# DM = df['DAYTON_MW'].values\n",
        "# DM = df['PJM_Load_MW'].values\n",
        "# DM = df['DEOK_MW'].values"
      ],
      "metadata": {
        "id": "rRE2t5fx8ff-"
      },
      "execution_count": 912,
      "outputs": []
    },
    {
      "cell_type": "code",
      "source": [
        "plt.figure(figsize=(15,5))\n",
        "plt.plot(dates, DM)\n",
        "plt.title('Timeseries Of Total Energy ', fontsize=20) #REVISI\n",
        "plt.xlabel('Datetime')\n",
        "plt.ylabel('Energy')\n",
        "plt.show()"
      ],
      "metadata": {
        "id": "xmVYRgGa7Czk"
      },
      "execution_count": 913,
      "outputs": []
    },
    {
      "cell_type": "code",
      "source": [
        "#buat function windowed\n",
        "import tensorflow as tf\n",
        "\n",
        "def windowed_dataset(series, window_size, batch_size, shuffle_buffer):\n",
        "    series = tf.expand_dims(series, axis=-1)\n",
        "    ds = tf.data.Dataset.from_tensor_slices(series)\n",
        "    ds = ds.window(window_size + 1, shift=1, drop_remainder=True)\n",
        "    ds = ds.flat_map(lambda w: w.batch(window_size + 1))\n",
        "    ds = ds.shuffle(shuffle_buffer)\n",
        "    ds = ds.map(lambda w: (w[:-1], w[-1:]))\n",
        "    return ds.batch(batch_size).prefetch(1)"
      ],
      "metadata": {
        "id": "Zyi1zQ3t-ceP"
      },
      "execution_count": 914,
      "outputs": []
    },
    {
      "cell_type": "code",
      "source": [
        "#bagi dataset menjadi train dan label\n",
        "from sklearn.model_selection import train_test_split\n",
        "\n",
        "\n",
        "# dates = df['Datetime'].values\n",
        "# DM = df['COMED_MW'].values\n",
        "\n",
        "# y = df['DAYTON_MW']\n",
        "y = df['COMED_MW']\n",
        "# y = df['PJM_Load_MW']\n",
        "# y = df['DEOK_MW']\n",
        "x = df['Datetime']\n",
        "\n",
        "x_train, x_test, y_train, y_test = train_test_split(x, y, test_size=0.2)"
      ],
      "metadata": {
        "id": "Sd6Iquau-iEo"
      },
      "execution_count": 915,
      "outputs": []
    },
    {
      "cell_type": "code",
      "source": [
        "#buat model\n",
        "from tensorflow.keras.layers import LSTM, Dense\n",
        "from tensorflow.keras.models import Sequential\n",
        "\n",
        "train_set = windowed_dataset(y_train, window_size=64, batch_size=100, shuffle_buffer=1000)\n",
        "test_set = windowed_dataset(y_test, window_size=64, batch_size=100, shuffle_buffer=1000)\n",
        "\n",
        "model = Sequential([\n",
        "  LSTM(60, return_sequences=True),\n",
        "  LSTM(60),\n",
        "  Dense(30, activation=\"relu\"),\n",
        "  Dense(10, activation=\"relu\"),\n",
        "  Dense(1),\n",
        "])\n",
        "\n",
        "model.compile(\n",
        "  loss = tf.keras.losses.Huber(),\n",
        "  optimizer = tf.keras.optimizers.SGD(lr=1.0000e-04, momentum=0.9),\n",
        "  metrics = ['mae'])"
      ],
      "metadata": {
        "colab": {
          "base_uri": "https://localhost:8080/"
        },
        "id": "HevJaAkE_Ktw",
        "outputId": "105534d3-4991-4be2-9e42-4acaf4133621"
      },
      "execution_count": 916,
      "outputs": [
        {
          "output_type": "stream",
          "name": "stderr",
          "text": [
            "WARNING:absl:`lr` is deprecated in Keras optimizer, please use `learning_rate` or use the legacy optimizer, e.g.,tf.keras.optimizers.legacy.SGD.\n"
          ]
        }
      ]
    },
    {
      "cell_type": "code",
      "source": [
        "#buat callbacks\n",
        "MAE = (df['COMED_MW'].max() - df['COMED_MW'].min()) * 0.1\n",
        "# MAE = (df['DAYTON_MW'].max() - df['DAYTON_MW'].min()) * 0.1\n",
        "# MAE = (df['PJM_Load_MW'].max() - df['PJM_Load_MW'].min()) * 0.1\n",
        "# MAE = (df['DEOK_MW'].max() - df['DEOK_MW'].min()) * 0.1"
      ],
      "metadata": {
        "id": "e-uvHGX4_M0F"
      },
      "execution_count": 917,
      "outputs": []
    },
    {
      "cell_type": "code",
      "source": [
        "comed = df['COMED_MW'].values\n",
        "# comed = df['DAYTON_MW'].values\n",
        "# comed = df['PJM_Load_MW'].values\n",
        "# comed = df['DEOK_MW'].values"
      ],
      "metadata": {
        "id": "13SEWLW8C2Nf"
      },
      "execution_count": 920,
      "outputs": []
    },
    {
      "cell_type": "code",
      "source": [
        "comed = comed.reshape(-1,1)\n",
        "comed"
      ],
      "metadata": {
        "colab": {
          "base_uri": "https://localhost:8080/"
        },
        "id": "k82DjUIhCoRX",
        "outputId": "14f1d5f2-2296-4e20-99a1-0f6f5e382787"
      },
      "execution_count": 921,
      "outputs": [
        {
          "output_type": "execute_result",
          "data": {
            "text/plain": [
              "array([[ 9428.],\n",
              "       [ 9363.],\n",
              "       [11317.],\n",
              "       ...,\n",
              "       [11982.],\n",
              "       [11747.],\n",
              "       [11565.]])"
            ]
          },
          "metadata": {},
          "execution_count": 921
        }
      ]
    },
    {
      "cell_type": "code",
      "source": [
        "from sklearn.preprocessing import StandardScaler, Normalizer\n",
        "\n",
        "# scaler = MinMaxScaler()\n",
        "# scaler = StandardScaler()\n",
        "scaler = Normalizer()\n",
        "comed = scaler.fit_transform(comed)"
      ],
      "metadata": {
        "id": "lUqIw7lkCXbF"
      },
      "execution_count": 922,
      "outputs": []
    },
    {
      "cell_type": "code",
      "source": [
        "X_train, X_test, y_train, y_test = train_test_split(comed, dates, test_size=0.2, shuffle=False)"
      ],
      "metadata": {
        "id": "DetSaMktC6U-"
      },
      "execution_count": 923,
      "outputs": []
    },
    {
      "cell_type": "code",
      "source": [
        "def windowed_dataset(series, window_size, batch_size, shuffle_buffer):\n",
        "  series = tf.expand_dims(series, axis=-1)\n",
        "  # ds = tf.data.Dataset.from_tensor_slices(series,series)\n",
        "  ds = tf.data.Dataset.from_tensor_slices((series, series))\n",
        "  ds = ds.window(window_size + 1, shift=1, drop_remainder=True)\n",
        "  # ds = ds.flat_map(lambda w: w.batch(window_size + 1))\n",
        "  ds = ds.flat_map(lambda w, _: w.batch(window_size + 1))\n",
        "  ds = ds.shuffle(shuffle_buffer)\n",
        "  ds = ds.map(lambda w: (w[:-1], w[-1:]))\n",
        "  return ds.batch(batch_size).prefetch(1)"
      ],
      "metadata": {
        "id": "g3yU8-IbDO3m"
      },
      "execution_count": 924,
      "outputs": []
    },
    {
      "cell_type": "code",
      "source": [
        "train_set = windowed_dataset(X_train, window_size=30, batch_size=32, shuffle_buffer=1000)\n",
        "test_set = windowed_dataset(X_test, window_size=30, batch_size=32, shuffle_buffer=1000)\n",
        "model = tf.keras.models.Sequential([ tf.keras.layers.LSTM(15, return_sequences=True, input_shape = [None, 1]),\n",
        "                                    tf.keras.layers.LSTM(15), tf.keras.layers.Dense(30, activation=\"relu\"),\n",
        "                                     tf.keras.layers.Dense(2, activation=\"relu\"), tf.keras.layers.Dense(1), ])"
      ],
      "metadata": {
        "id": "wlkB2zzvDZuI"
      },
      "execution_count": 925,
      "outputs": []
    },
    {
      "cell_type": "code",
      "source": [
        "threshold_mae = (DM.max() - DM.min()) * 10/100"
      ],
      "metadata": {
        "id": "zjyl77r6Dkjj"
      },
      "execution_count": 926,
      "outputs": []
    },
    {
      "cell_type": "code",
      "source": [
        "class myCallback(tf.keras.callbacks.Callback):\n",
        "  def on_epoch_end(self, epoch, logs={}):\n",
        "    if((logs.get('mae') < 0.10)\n",
        "    # and (logs.get('val_mae') < threshold_mae)\n",
        "    ):\n",
        "      print(\"\\n MAE criteria < 10%\")\n",
        "      self.model.stop_training = True\n",
        "callbacks = myCallback()"
      ],
      "metadata": {
        "id": "8RcJ41kwF2XL"
      },
      "execution_count": 927,
      "outputs": []
    },
    {
      "cell_type": "code",
      "source": [
        "optimizer = tf.keras.optimizers.SGD(learning_rate=1.0000e-04, momentum=0.9)\n",
        "# optimizer = tf.keras.optimizers.SGD(learning_rate=1.1, momentum=0.9)\n",
        "model.compile(loss=tf.keras.losses.Huber(),\n",
        "              optimizer=optimizer, metrics=[\"mae\"])\n",
        "\n",
        "hist = model.fit(train_set, epochs=100,\n",
        "                 validation_data=test_set,\n",
        "                 verbose=2,\n",
        "                 callbacks=[callbacks])"
      ],
      "metadata": {
        "colab": {
          "base_uri": "https://localhost:8080/"
        },
        "id": "m7MfTLGsDwaf",
        "outputId": "1268f3c7-5656-4b14-ce97-8745741346b5"
      },
      "execution_count": 928,
      "outputs": [
        {
          "output_type": "stream",
          "name": "stdout",
          "text": [
            "Epoch 1/100\n",
            "262/262 - 7s - loss: 0.3376 - mae: 0.8154 - val_loss: 0.2096 - val_mae: 0.6474 - 7s/epoch - 26ms/step\n",
            "Epoch 2/100\n",
            "262/262 - 3s - loss: 0.1347 - mae: 0.5139 - val_loss: 0.0765 - val_mae: 0.3911 - 3s/epoch - 11ms/step\n",
            "Epoch 3/100\n",
            "262/262 - 4s - loss: 0.0446 - mae: 0.2940 - val_loss: 0.0218 - val_mae: 0.2086 - 4s/epoch - 14ms/step\n",
            "Epoch 4/100\n",
            "262/262 - 3s - loss: 0.0116 - mae: 0.1490 - val_loss: 0.0050 - val_mae: 0.0998 - 3s/epoch - 10ms/step\n",
            "Epoch 5/100\n",
            "\n",
            " MAE criteria < 10%\n",
            "262/262 - 3s - loss: 0.0025 - mae: 0.0689 - val_loss: 9.9200e-04 - val_mae: 0.0445 - 3s/epoch - 10ms/step\n"
          ]
        }
      ]
    },
    {
      "cell_type": "code",
      "source": [
        "plt.plot(hist.history['mae'])\n",
        "plt.plot(hist.history['val_mae'])\n",
        "plt.legend(['train', 'test'], loc='upper left')\n",
        "plt.title('mae model')\n",
        "plt.ylabel('mae')\n",
        "plt.xlabel('epoch')\n",
        "plt.show()"
      ],
      "metadata": {
        "colab": {
          "base_uri": "https://localhost:8080/",
          "height": 472
        },
        "id": "8JpK60hAKbtZ",
        "outputId": "6e9d4153-a427-4397-816a-268fe69cbea7"
      },
      "execution_count": 936,
      "outputs": [
        {
          "output_type": "display_data",
          "data": {
            "text/plain": [
              "<Figure size 640x480 with 1 Axes>"
            ],
            "image/png": "[encoded data removed]"
          },
          "metadata": {}
        }
      ]
    },
    {
      "cell_type": "code",
      "source": [
        "plt.plot(hist.history['loss'])\n",
        "plt.plot(hist.history['val_loss'])\n",
        "plt.legend(['train', 'test'], loc='upper left')\n",
        "plt.title('loss model')\n",
        "plt.ylabel('loss')\n",
        "plt.xlabel('epoch')\n",
        "plt.show()"
      ],
      "metadata": {
        "colab": {
          "base_uri": "https://localhost:8080/",
          "height": 472
        },
        "id": "XHKfICE6L2o6",
        "outputId": "b80a70e1-6df7-48e8-b347-a635dd2629d9"
      },
      "execution_count": 937,
      "outputs": [
        {
          "output_type": "display_data",
          "data": {
            "text/plain": [
              "<Figure size 640x480 with 1 Axes>"
            ],
            "image/png": "[encoded data removed]"
          },
          "metadata": {}
        }
      ]
    }
  ]
}